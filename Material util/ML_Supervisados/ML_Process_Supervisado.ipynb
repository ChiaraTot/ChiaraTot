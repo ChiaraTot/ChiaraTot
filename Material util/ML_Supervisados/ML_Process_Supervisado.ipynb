{
 "cells": [
  {
   "cell_type": "markdown",
   "metadata": {},
   "source": [
    "### IMPORT"
   ]
  },
  {
   "cell_type": "code",
   "execution_count": null,
   "metadata": {},
   "outputs": [],
   "source": [
    "import pandas as pd\n",
    "import numpy as np\n",
    "import matplotlib.pyplot as plt\n",
    "import seaborn as sns\n",
    "\n",
    "from bootcampviztools import *\n",
    "\n",
    "from sklearn.model_selection import train_test_split, cross_val_score, GridSearchCV, RandomizedSearchCV\n",
    "from sklearn.preprocessing import StandardScaler\n",
    "from sklearn.ensemble import RandomForestClassifier\n",
    "from sklearn.metrics import classification_report, confusion_matrix, ConfusionMatrixDisplay\n",
    "\n",
    "from imblearn.over_sampling import SMOTE\n",
    "\n"
   ]
  },
  {
   "cell_type": "code",
   "execution_count": null,
   "metadata": {},
   "outputs": [],
   "source": [
    "# OPTIMIZACION DISEÑO GRAFICOS\n",
    "# Código extra para los tamaños de las fuentes y los \"ticks\" de los ejes\n",
    "plt.rc('font', size=14)\n",
    "plt.rc('axes', labelsize=14, titlesize=14)\n",
    "plt.rc('legend', fontsize=14)\n",
    "plt.rc('xtick', labelsize=10)\n",
    "plt.rc('ytick', labelsize=10)"
   ]
  },
  {
   "cell_type": "markdown",
   "metadata": {},
   "source": []
  },
  {
   "cell_type": "code",
   "execution_count": null,
   "metadata": {},
   "outputs": [],
   "source": []
  },
  {
   "cell_type": "markdown",
   "metadata": {},
   "source": [
    "### FUNCIONES UTILES"
   ]
  },
  {
   "cell_type": "code",
   "execution_count": null,
   "metadata": {},
   "outputs": [],
   "source": [
    "def plot_predictions_vs_actual(y_real, y_pred):\n",
    "    \"\"\"\n",
    "    Función para graficar los valores reales vs. los valores predichos en una regresión.\n",
    "    Args:\n",
    "    y_real (array-like): Valores reales de la variable objetivo.\n",
    "    y_pred (array-like): Valores predichos de la variable objetivo.\n",
    "    \"\"\"\n",
    "    plt.figure(figsize=(8, 6))\n",
    "    plt.scatter(y_pred, y_real, alpha=0.5)\n",
    "    plt.xlabel(\"Valores Predichos\")\n",
    "    plt.ylabel(\"Valores Reales\")\n",
    "    # Línea y=x\n",
    "    max_value = max(max(y_real), max(y_pred))\n",
    "    min_value = min(min(y_real), min(y_pred))\n",
    "    plt.plot([min_value, max_value], [min_value, max_value], 'r')\n",
    "    plt.title(\"Comparación de Valores Reales vs. Predichos\")\n",
    "    plt.show()"
   ]
  },
  {
   "cell_type": "markdown",
   "metadata": {},
   "source": [
    "### PROCESOS ML"
   ]
  },
  {
   "cell_type": "markdown",
   "metadata": {},
   "source": [
    "![image.png](attachment:image.png)"
   ]
  },
  {
   "cell_type": "markdown",
   "metadata": {},
   "source": []
  },
  {
   "cell_type": "markdown",
   "metadata": {},
   "source": [
    "1. Problema Negocio -> Problema Técnico\n",
    "2. Decido el tipo de problema (prediciendo): Regresión (variable numérica); Categorización/Clasificación (Clustering, generar textos, analizar textos)\n",
    "3. Acceder a los datos\n",
    "4. Limpieza, transformar -> Imputar nulos NO PUEDO.  \n",
    "Identificar el target: \"median_house_value\"\n",
    "5. TRAIN/TEST -> TEST/(VALIDACION) datos que quieros simular que no conozco no tengo -> Modelo \n",
    "    Estratificado.\n",
    "6. EDA: TRAIN -> Target, y como se relaciona con el resto de variables -> SELECCION DE FEATURES/CREACION DE FEATURES -> Cómo va a funcionar el modelo -> Explicabilidad\n",
    "7. TRATAMIENTO FEATURES: CAtegoricas a Numericas y las continuas habrá escalar -> Features\n",
    "8. Escojo una lista de modelos, METRICA(S) de comparación\n",
    "10. Entrenamiento -> fit\n",
    "11. Entrenamiento -> AJUSTE DE HIPERPARAMETROS\n",
    "11.1 REGULARIZACION -> Busca reducir el overfitting\n",
    "12. Evaluación Test...... Test Error, Metrica Tesst -> Mtrain vs Mtest -> No he generalizado....(Overfitting)\n",
    "    Overfitting"
   ]
  },
  {
   "cell_type": "markdown",
   "metadata": {},
   "source": [
    "1. Entender el problema de negocio y trasladarlo a un problema tecnico : supervisado/no, regresion/classificacion\n",
    "2. Obtener datos\n",
    "3. Visualizacion, ojeo de los datos\n",
    "4. Limpieza ( no puedo imputar nulos o valores que tengan que consider agregaciones)\n",
    "5. Train/Test split\n",
    "6. Mini-EDA : Sobre el train ya estudio el target, la bivarianza del target con las posibles features --> Lista de potenciales features\n",
    "7. Tratar las features --> categoricas a numericas, numericas las trasformo y las escalo (si el modelo lo necesita)\n",
    "8. Seleccion de un conjunto de modelos\n",
    "9. Los entrenarè con CV(cross validation) --> compararè y me quedo con el mejor\n",
    "10. Optimizacion de hiperparametros del mejor modelo escogido antes\n",
    "\n",
    "ALTERNATIVAMENTE\n",
    "9.bis Optimiza los hiperparametros de todos los modelos a considerar - para entrenar todos los modelos y compare la mejor version de cada modelo - \n",
    "10.bis Comparar los optimizados y quedarme con el mejor"
   ]
  },
  {
   "cell_type": "markdown",
   "metadata": {},
   "source": [
    "#### #1. Problema de Negozio / Problema Tecnico\n",
    "* Objetivo de negocio \n",
    "* Objetivo tecnico \n",
    "* Tipo de modelado (supervisado, no supervisado) \n",
    "* Tipo de problema : Regresión (variable numérica); Categorización/Clasificación (Clustering, generar textos, analizar textos)\n",
    "* Métrica de Evaluacion"
   ]
  },
  {
   "cell_type": "markdown",
   "metadata": {},
   "source": [
    "#### #5. Train/Test Split"
   ]
  },
  {
   "cell_type": "code",
   "execution_count": null,
   "metadata": {},
   "outputs": [],
   "source": [
    "# separo solo train y test y luego creo X_train, X_test,y_train, y_test\n",
    "train_set, test_set = train_test_split(df, test_size=0.2, random_state=42)"
   ]
  },
  {
   "cell_type": "code",
   "execution_count": null,
   "metadata": {},
   "outputs": [],
   "source": [
    "# o Separo divido directamente en X y y y luego hago el split\n",
    "# Separar features y target\n",
    "    X = df.drop('target', axis=1)\n",
    "    y = df['target']\n",
    "    \n",
    "    # División train-test\n",
    "    X_train, X_test, y_train, y_test = train_test_split(\n",
    "        X, y, test_size=0.2, random_state=42\n",
    "    )"
   ]
  },
  {
   "cell_type": "code",
   "execution_count": null,
   "metadata": {},
   "outputs": [],
   "source": []
  },
  {
   "cell_type": "markdown",
   "metadata": {},
   "source": [
    "#### 7. TRATAMIENTO DE FEATURES\n",
    "* Categoricas a numericas\n",
    "* Traformacion numericas (log, ect...)\n",
    "(si el modelo lo necesita)\n",
    "* Escalado"
   ]
  },
  {
   "cell_type": "code",
   "execution_count": null,
   "metadata": {},
   "outputs": [],
   "source": [
    "# Escalado de features\n",
    "    scaler = StandardScaler()\n",
    "    X_train_scaled = scaler.fit_transform(X_train)\n",
    "    X_test_scaled = scaler.transform(X_test)"
   ]
  }
 ],
 "metadata": {
  "language_info": {
   "name": "python"
  }
 },
 "nbformat": 4,
 "nbformat_minor": 2
}
